{
 "cells": [
  {
   "cell_type": "markdown",
   "metadata": {},
   "source": [
    "# Tagging data using NER"
   ]
  },
  {
   "cell_type": "markdown",
   "metadata": {},
   "source": [
    "### Importing libraries and loading spacy model"
   ]
  },
  {
   "cell_type": "code",
   "execution_count": 1,
   "metadata": {},
   "outputs": [],
   "source": [
    "import spacy\n",
    "import pandas as pd\n",
    "\n",
    "nlp = spacy.load('en_core_web_sm')"
   ]
  },
  {
   "cell_type": "markdown",
   "metadata": {},
   "source": [
    "### Defining getting org function"
   ]
  },
  {
   "cell_type": "code",
   "execution_count": 2,
   "metadata": {},
   "outputs": [],
   "source": [
    "def get_orgs(text):\n",
    "    # process the text with our SpaCy model to get named entities\n",
    "    doc = nlp(text)\n",
    "    # initialize list to store identified organizations\n",
    "    org_list = []\n",
    "    # loop through the identified entities and append ORG entities to org_list\n",
    "    for entity in doc.ents:\n",
    "        if entity.label_ == 'ORG':\n",
    "            org_list.append(entity.text)\n",
    "    # if organization is identified more than once it will appear multiple times in list\n",
    "    # we use set() to remove duplicates then convert back to list\n",
    "    org_list = list(set(org_list))\n",
    "    return org_list"
   ]
  },
  {
   "cell_type": "markdown",
   "metadata": {},
   "source": [
    "### Reading data and applying getting org function"
   ]
  },
  {
   "cell_type": "code",
   "execution_count": 3,
   "metadata": {},
   "outputs": [
    {
     "data": {
      "text/html": [
       "<div>\n",
       "<style scoped>\n",
       "    .dataframe tbody tr th:only-of-type {\n",
       "        vertical-align: middle;\n",
       "    }\n",
       "\n",
       "    .dataframe tbody tr th {\n",
       "        vertical-align: top;\n",
       "    }\n",
       "\n",
       "    .dataframe thead th {\n",
       "        text-align: right;\n",
       "    }\n",
       "</style>\n",
       "<table border=\"1\" class=\"dataframe\">\n",
       "  <thead>\n",
       "    <tr style=\"text-align: right;\">\n",
       "      <th></th>\n",
       "      <th>id</th>\n",
       "      <th>created_utc</th>\n",
       "      <th>subreddit</th>\n",
       "      <th>title</th>\n",
       "      <th>selftext</th>\n",
       "      <th>upvote_ratio</th>\n",
       "      <th>ups</th>\n",
       "      <th>downs</th>\n",
       "      <th>score</th>\n",
       "    </tr>\n",
       "  </thead>\n",
       "  <tbody>\n",
       "    <tr>\n",
       "      <th>0</th>\n",
       "      <td>t3_zwixbx</td>\n",
       "      <td>1672156884</td>\n",
       "      <td>investing</td>\n",
       "      <td>Companies that are focusing on desalination?</td>\n",
       "      <td>Hi All,\\n\\nIm wondering if anyone out there kn...</td>\n",
       "      <td>0.50</td>\n",
       "      <td>0</td>\n",
       "      <td>0</td>\n",
       "      <td>0</td>\n",
       "    </tr>\n",
       "    <tr>\n",
       "      <th>1</th>\n",
       "      <td>t3_zwivno</td>\n",
       "      <td>1672156783</td>\n",
       "      <td>investing</td>\n",
       "      <td>Legendary investor David Tepper revealed his s...</td>\n",
       "      <td>The only stock he bought was Google (GOOG). He...</td>\n",
       "      <td>0.83</td>\n",
       "      <td>4</td>\n",
       "      <td>0</td>\n",
       "      <td>4</td>\n",
       "    </tr>\n",
       "    <tr>\n",
       "      <th>2</th>\n",
       "      <td>t3_zwi6qy</td>\n",
       "      <td>1672154900</td>\n",
       "      <td>investing</td>\n",
       "      <td>Investing for roughly two year window.</td>\n",
       "      <td>Hello, first allow me to say that my wife and ...</td>\n",
       "      <td>0.20</td>\n",
       "      <td>0</td>\n",
       "      <td>0</td>\n",
       "      <td>0</td>\n",
       "    </tr>\n",
       "    <tr>\n",
       "      <th>3</th>\n",
       "      <td>t3_zwhson</td>\n",
       "      <td>1672153936</td>\n",
       "      <td>investing</td>\n",
       "      <td>ELI5: How can wash sales be used to actually a...</td>\n",
       "      <td>(Edit: My assumption is that they were abused ...</td>\n",
       "      <td>0.43</td>\n",
       "      <td>0</td>\n",
       "      <td>0</td>\n",
       "      <td>0</td>\n",
       "    </tr>\n",
       "    <tr>\n",
       "      <th>4</th>\n",
       "      <td>t3_zwhm6b</td>\n",
       "      <td>1672153434</td>\n",
       "      <td>investing</td>\n",
       "      <td>Chipmakers Struggle With Inventory Buildup On ...</td>\n",
       "      <td>https://finance.yahoo.com/news/chipmakers-stru...</td>\n",
       "      <td>0.89</td>\n",
       "      <td>32</td>\n",
       "      <td>0</td>\n",
       "      <td>32</td>\n",
       "    </tr>\n",
       "  </tbody>\n",
       "</table>\n",
       "</div>"
      ],
      "text/plain": [
       "          id  created_utc  subreddit  \\\n",
       "0  t3_zwixbx   1672156884  investing   \n",
       "1  t3_zwivno   1672156783  investing   \n",
       "2  t3_zwi6qy   1672154900  investing   \n",
       "3  t3_zwhson   1672153936  investing   \n",
       "4  t3_zwhm6b   1672153434  investing   \n",
       "\n",
       "                                               title  \\\n",
       "0       Companies that are focusing on desalination?   \n",
       "1  Legendary investor David Tepper revealed his s...   \n",
       "2             Investing for roughly two year window.   \n",
       "3  ELI5: How can wash sales be used to actually a...   \n",
       "4  Chipmakers Struggle With Inventory Buildup On ...   \n",
       "\n",
       "                                            selftext  upvote_ratio  ups  \\\n",
       "0  Hi All,\\n\\nIm wondering if anyone out there kn...          0.50    0   \n",
       "1  The only stock he bought was Google (GOOG). He...          0.83    4   \n",
       "2  Hello, first allow me to say that my wife and ...          0.20    0   \n",
       "3  (Edit: My assumption is that they were abused ...          0.43    0   \n",
       "4  https://finance.yahoo.com/news/chipmakers-stru...          0.89   32   \n",
       "\n",
       "   downs  score  \n",
       "0      0      0  \n",
       "1      0      4  \n",
       "2      0      0  \n",
       "3      0      0  \n",
       "4      0     32  "
      ]
     },
     "execution_count": 3,
     "metadata": {},
     "output_type": "execute_result"
    }
   ],
   "source": [
    "df = pd.read_csv('./data/reddit_investing.csv', sep='|')\n",
    "df.head()"
   ]
  },
  {
   "cell_type": "code",
   "execution_count": 4,
   "metadata": {},
   "outputs": [
    {
     "data": {
      "text/html": [
       "<div>\n",
       "<style scoped>\n",
       "    .dataframe tbody tr th:only-of-type {\n",
       "        vertical-align: middle;\n",
       "    }\n",
       "\n",
       "    .dataframe tbody tr th {\n",
       "        vertical-align: top;\n",
       "    }\n",
       "\n",
       "    .dataframe thead th {\n",
       "        text-align: right;\n",
       "    }\n",
       "</style>\n",
       "<table border=\"1\" class=\"dataframe\">\n",
       "  <thead>\n",
       "    <tr style=\"text-align: right;\">\n",
       "      <th></th>\n",
       "      <th>id</th>\n",
       "      <th>created_utc</th>\n",
       "      <th>subreddit</th>\n",
       "      <th>title</th>\n",
       "      <th>selftext</th>\n",
       "      <th>upvote_ratio</th>\n",
       "      <th>ups</th>\n",
       "      <th>downs</th>\n",
       "      <th>score</th>\n",
       "      <th>organizations</th>\n",
       "    </tr>\n",
       "  </thead>\n",
       "  <tbody>\n",
       "    <tr>\n",
       "      <th>0</th>\n",
       "      <td>t3_zwixbx</td>\n",
       "      <td>1672156884</td>\n",
       "      <td>investing</td>\n",
       "      <td>Companies that are focusing on desalination?</td>\n",
       "      <td>Hi All,\\n\\nIm wondering if anyone out there kn...</td>\n",
       "      <td>0.50</td>\n",
       "      <td>0</td>\n",
       "      <td>0</td>\n",
       "      <td>0</td>\n",
       "      <td>[]</td>\n",
       "    </tr>\n",
       "    <tr>\n",
       "      <th>1</th>\n",
       "      <td>t3_zwivno</td>\n",
       "      <td>1672156783</td>\n",
       "      <td>investing</td>\n",
       "      <td>Legendary investor David Tepper revealed his s...</td>\n",
       "      <td>The only stock he bought was Google (GOOG). He...</td>\n",
       "      <td>0.83</td>\n",
       "      <td>4</td>\n",
       "      <td>0</td>\n",
       "      <td>4</td>\n",
       "      <td>[]</td>\n",
       "    </tr>\n",
       "    <tr>\n",
       "      <th>2</th>\n",
       "      <td>t3_zwi6qy</td>\n",
       "      <td>1672154900</td>\n",
       "      <td>investing</td>\n",
       "      <td>Investing for roughly two year window.</td>\n",
       "      <td>Hello, first allow me to say that my wife and ...</td>\n",
       "      <td>0.20</td>\n",
       "      <td>0</td>\n",
       "      <td>0</td>\n",
       "      <td>0</td>\n",
       "      <td>[DCA, Ammo.com, REIT, SPLG, LETB, Farmland Par...</td>\n",
       "    </tr>\n",
       "    <tr>\n",
       "      <th>3</th>\n",
       "      <td>t3_zwhson</td>\n",
       "      <td>1672153936</td>\n",
       "      <td>investing</td>\n",
       "      <td>ELI5: How can wash sales be used to actually a...</td>\n",
       "      <td>(Edit: My assumption is that they were abused ...</td>\n",
       "      <td>0.43</td>\n",
       "      <td>0</td>\n",
       "      <td>0</td>\n",
       "      <td>0</td>\n",
       "      <td>[]</td>\n",
       "    </tr>\n",
       "    <tr>\n",
       "      <th>4</th>\n",
       "      <td>t3_zwhm6b</td>\n",
       "      <td>1672153434</td>\n",
       "      <td>investing</td>\n",
       "      <td>Chipmakers Struggle With Inventory Buildup On ...</td>\n",
       "      <td>https://finance.yahoo.com/news/chipmakers-stru...</td>\n",
       "      <td>0.89</td>\n",
       "      <td>32</td>\n",
       "      <td>0</td>\n",
       "      <td>32</td>\n",
       "      <td>[Micron]</td>\n",
       "    </tr>\n",
       "  </tbody>\n",
       "</table>\n",
       "</div>"
      ],
      "text/plain": [
       "          id  created_utc  subreddit  \\\n",
       "0  t3_zwixbx   1672156884  investing   \n",
       "1  t3_zwivno   1672156783  investing   \n",
       "2  t3_zwi6qy   1672154900  investing   \n",
       "3  t3_zwhson   1672153936  investing   \n",
       "4  t3_zwhm6b   1672153434  investing   \n",
       "\n",
       "                                               title  \\\n",
       "0       Companies that are focusing on desalination?   \n",
       "1  Legendary investor David Tepper revealed his s...   \n",
       "2             Investing for roughly two year window.   \n",
       "3  ELI5: How can wash sales be used to actually a...   \n",
       "4  Chipmakers Struggle With Inventory Buildup On ...   \n",
       "\n",
       "                                            selftext  upvote_ratio  ups  \\\n",
       "0  Hi All,\\n\\nIm wondering if anyone out there kn...          0.50    0   \n",
       "1  The only stock he bought was Google (GOOG). He...          0.83    4   \n",
       "2  Hello, first allow me to say that my wife and ...          0.20    0   \n",
       "3  (Edit: My assumption is that they were abused ...          0.43    0   \n",
       "4  https://finance.yahoo.com/news/chipmakers-stru...          0.89   32   \n",
       "\n",
       "   downs  score                                      organizations  \n",
       "0      0      0                                                 []  \n",
       "1      0      4                                                 []  \n",
       "2      0      0  [DCA, Ammo.com, REIT, SPLG, LETB, Farmland Par...  \n",
       "3      0      0                                                 []  \n",
       "4      0     32                                           [Micron]  "
      ]
     },
     "execution_count": 4,
     "metadata": {},
     "output_type": "execute_result"
    }
   ],
   "source": [
    "df['organizations'] = df['selftext'].apply(get_orgs)\n",
    "df.head()"
   ]
  },
  {
   "cell_type": "code",
   "execution_count": 5,
   "metadata": {},
   "outputs": [
    {
     "data": {
      "text/plain": [
       "['DCA',\n",
       " 'Ammo.com',\n",
       " 'REIT',\n",
       " 'SPLG',\n",
       " 'LETB',\n",
       " 'Farmland Partners',\n",
       " 'AI',\n",
       " 'Ford',\n",
       " 'Micron',\n",
       " 'DCA']"
      ]
     },
     "execution_count": 5,
     "metadata": {},
     "output_type": "execute_result"
    }
   ],
   "source": [
    "# merge organizations column into one big list\n",
    "orgs = df['organizations'].to_list()\n",
    "orgs = [org for sublist in orgs for org in sublist]\n",
    "orgs[:10]"
   ]
  },
  {
   "cell_type": "markdown",
   "metadata": {},
   "source": [
    "### Getting frequency of organizations"
   ]
  },
  {
   "cell_type": "code",
   "execution_count": 6,
   "metadata": {},
   "outputs": [],
   "source": [
    "from collections import Counter"
   ]
  },
  {
   "cell_type": "code",
   "execution_count": 7,
   "metadata": {},
   "outputs": [],
   "source": [
    "# create dictionary of organization mention frequency\n",
    "org_freq = Counter(orgs)"
   ]
  },
  {
   "cell_type": "code",
   "execution_count": 8,
   "metadata": {},
   "outputs": [
    {
     "data": {
      "text/plain": [
       "[('FAQ', 50),\n",
       " ('ETF', 38),\n",
       " ('Fidelity', 34),\n",
       " ('Fed', 30),\n",
       " ('VOO', 24),\n",
       " ('Vanguard', 21),\n",
       " ('treasury', 17),\n",
       " ('DCA', 16),\n",
       " ('Amazon', 14),\n",
       " ('Treasury', 14)]"
      ]
     },
     "execution_count": 8,
     "metadata": {},
     "output_type": "execute_result"
    }
   ],
   "source": [
    "org_freq.most_common(10)"
   ]
  },
  {
   "cell_type": "markdown",
   "metadata": {},
   "source": [
    "### Blacklisting unrelated entities"
   ]
  },
  {
   "cell_type": "code",
   "execution_count": 9,
   "metadata": {},
   "outputs": [],
   "source": [
    "BLACKLIST = ['ev', 'covid', 'etf', 'nyse', 'sec', 'spac', 'fda']\n",
    "\n",
    "def get_orgs(text):\n",
    "    doc = nlp(text)\n",
    "    org_list = []\n",
    "    for entity in doc.ents:\n",
    "        # here we modify the original code to check that entity text is not equal to one of our 'blacklisted' organizations\n",
    "        # (we also add .lower() to lowercase the text, this allows us to match both 'nyse' and 'NYSE' with just 'nyse')\n",
    "        if entity.label_ == 'ORG' and entity.text.lower() not in BLACKLIST:\n",
    "            org_list.append(entity.text)\n",
    "    # if organization is identified more than once it will appear multiple times in list\n",
    "    # we use set() to remove duplicates then convert back to list\n",
    "    org_list = list(set(org_list))\n",
    "    return org_list"
   ]
  },
  {
   "cell_type": "code",
   "execution_count": 10,
   "metadata": {},
   "outputs": [
    {
     "data": {
      "text/html": [
       "<div>\n",
       "<style scoped>\n",
       "    .dataframe tbody tr th:only-of-type {\n",
       "        vertical-align: middle;\n",
       "    }\n",
       "\n",
       "    .dataframe tbody tr th {\n",
       "        vertical-align: top;\n",
       "    }\n",
       "\n",
       "    .dataframe thead th {\n",
       "        text-align: right;\n",
       "    }\n",
       "</style>\n",
       "<table border=\"1\" class=\"dataframe\">\n",
       "  <thead>\n",
       "    <tr style=\"text-align: right;\">\n",
       "      <th></th>\n",
       "      <th>id</th>\n",
       "      <th>created_utc</th>\n",
       "      <th>subreddit</th>\n",
       "      <th>title</th>\n",
       "      <th>selftext</th>\n",
       "      <th>upvote_ratio</th>\n",
       "      <th>ups</th>\n",
       "      <th>downs</th>\n",
       "      <th>score</th>\n",
       "      <th>organizations</th>\n",
       "    </tr>\n",
       "  </thead>\n",
       "  <tbody>\n",
       "    <tr>\n",
       "      <th>0</th>\n",
       "      <td>t3_zwixbx</td>\n",
       "      <td>1672156884</td>\n",
       "      <td>investing</td>\n",
       "      <td>Companies that are focusing on desalination?</td>\n",
       "      <td>Hi All,\\n\\nIm wondering if anyone out there kn...</td>\n",
       "      <td>0.50</td>\n",
       "      <td>0</td>\n",
       "      <td>0</td>\n",
       "      <td>0</td>\n",
       "      <td>[]</td>\n",
       "    </tr>\n",
       "    <tr>\n",
       "      <th>1</th>\n",
       "      <td>t3_zwivno</td>\n",
       "      <td>1672156783</td>\n",
       "      <td>investing</td>\n",
       "      <td>Legendary investor David Tepper revealed his s...</td>\n",
       "      <td>The only stock he bought was Google (GOOG). He...</td>\n",
       "      <td>0.83</td>\n",
       "      <td>4</td>\n",
       "      <td>0</td>\n",
       "      <td>4</td>\n",
       "      <td>[]</td>\n",
       "    </tr>\n",
       "    <tr>\n",
       "      <th>2</th>\n",
       "      <td>t3_zwi6qy</td>\n",
       "      <td>1672154900</td>\n",
       "      <td>investing</td>\n",
       "      <td>Investing for roughly two year window.</td>\n",
       "      <td>Hello, first allow me to say that my wife and ...</td>\n",
       "      <td>0.20</td>\n",
       "      <td>0</td>\n",
       "      <td>0</td>\n",
       "      <td>0</td>\n",
       "      <td>[DCA, Ammo.com, REIT, SPLG, LETB, Farmland Par...</td>\n",
       "    </tr>\n",
       "    <tr>\n",
       "      <th>3</th>\n",
       "      <td>t3_zwhson</td>\n",
       "      <td>1672153936</td>\n",
       "      <td>investing</td>\n",
       "      <td>ELI5: How can wash sales be used to actually a...</td>\n",
       "      <td>(Edit: My assumption is that they were abused ...</td>\n",
       "      <td>0.43</td>\n",
       "      <td>0</td>\n",
       "      <td>0</td>\n",
       "      <td>0</td>\n",
       "      <td>[]</td>\n",
       "    </tr>\n",
       "    <tr>\n",
       "      <th>4</th>\n",
       "      <td>t3_zwhm6b</td>\n",
       "      <td>1672153434</td>\n",
       "      <td>investing</td>\n",
       "      <td>Chipmakers Struggle With Inventory Buildup On ...</td>\n",
       "      <td>https://finance.yahoo.com/news/chipmakers-stru...</td>\n",
       "      <td>0.89</td>\n",
       "      <td>32</td>\n",
       "      <td>0</td>\n",
       "      <td>32</td>\n",
       "      <td>[Micron]</td>\n",
       "    </tr>\n",
       "  </tbody>\n",
       "</table>\n",
       "</div>"
      ],
      "text/plain": [
       "          id  created_utc  subreddit  \\\n",
       "0  t3_zwixbx   1672156884  investing   \n",
       "1  t3_zwivno   1672156783  investing   \n",
       "2  t3_zwi6qy   1672154900  investing   \n",
       "3  t3_zwhson   1672153936  investing   \n",
       "4  t3_zwhm6b   1672153434  investing   \n",
       "\n",
       "                                               title  \\\n",
       "0       Companies that are focusing on desalination?   \n",
       "1  Legendary investor David Tepper revealed his s...   \n",
       "2             Investing for roughly two year window.   \n",
       "3  ELI5: How can wash sales be used to actually a...   \n",
       "4  Chipmakers Struggle With Inventory Buildup On ...   \n",
       "\n",
       "                                            selftext  upvote_ratio  ups  \\\n",
       "0  Hi All,\\n\\nIm wondering if anyone out there kn...          0.50    0   \n",
       "1  The only stock he bought was Google (GOOG). He...          0.83    4   \n",
       "2  Hello, first allow me to say that my wife and ...          0.20    0   \n",
       "3  (Edit: My assumption is that they were abused ...          0.43    0   \n",
       "4  https://finance.yahoo.com/news/chipmakers-stru...          0.89   32   \n",
       "\n",
       "   downs  score                                      organizations  \n",
       "0      0      0                                                 []  \n",
       "1      0      4                                                 []  \n",
       "2      0      0  [DCA, Ammo.com, REIT, SPLG, LETB, Farmland Par...  \n",
       "3      0      0                                                 []  \n",
       "4      0     32                                           [Micron]  "
      ]
     },
     "execution_count": 10,
     "metadata": {},
     "output_type": "execute_result"
    }
   ],
   "source": [
    "df['organizations'] = df['selftext'].apply(get_orgs)\n",
    "df.head()"
   ]
  },
  {
   "cell_type": "markdown",
   "metadata": {},
   "source": [
    "### Saving data to file"
   ]
  },
  {
   "cell_type": "code",
   "execution_count": 12,
   "metadata": {},
   "outputs": [],
   "source": [
    "df.to_csv('./data/reddit_investing_ner.csv', sep='|', index=False)"
   ]
  }
 ],
 "metadata": {
  "kernelspec": {
   "display_name": "Python 3 (ipykernel)",
   "language": "python",
   "name": "python3"
  },
  "language_info": {
   "codemirror_mode": {
    "name": "ipython",
    "version": 3
   },
   "file_extension": ".py",
   "mimetype": "text/x-python",
   "name": "python",
   "nbconvert_exporter": "python",
   "pygments_lexer": "ipython3",
   "version": "3.9.13"
  }
 },
 "nbformat": 4,
 "nbformat_minor": 4
}
